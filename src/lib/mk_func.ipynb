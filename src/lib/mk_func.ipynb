{
 "cells": [
  {
   "cell_type": "markdown",
   "metadata": {
    "id": "Gg2Pq2Xf3fhw"
   },
   "source": [
    "## 形態素解析関数(書き手用)\n",
    "\n",
    "### 入力形式：テキストファイル\n",
    "\n",
    "### 出力形式：リスト型\n",
    "\n",
    "- 読み手では伏字に置換\n",
    "- 書き手では「この単語がダメだったよ」っていう提案ができるように定義\n",
    "- 関数の出力はアカン単語・動詞を格納したリスト\n",
    "- それを書き手機能へ追加\n"
   ]
  },
  {
   "cell_type": "markdown",
   "metadata": {},
   "source": [
    "https://note.nkmk.me/python-janome-tutorial/\n"
   ]
  },
  {
   "cell_type": "markdown",
   "metadata": {},
   "source": [
    "https://mocobeta.github.io/janome/\n"
   ]
  },
  {
   "cell_type": "markdown",
   "metadata": {},
   "source": [
    "#### import\n"
   ]
  },
  {
   "cell_type": "code",
   "execution_count": 43,
   "metadata": {},
   "outputs": [],
   "source": [
    "from janome.tokenizer import Tokenizer\n",
    "import re\n",
    "import pandas as pd\n",
    "\n",
    "t = Tokenizer()\n"
   ]
  },
  {
   "cell_type": "markdown",
   "metadata": {
    "tags": []
   },
   "source": [
    "### 命令形検出\n"
   ]
  },
  {
   "cell_type": "code",
   "execution_count": 44,
   "metadata": {},
   "outputs": [
    {
     "name": "stdout",
     "output_type": "stream",
     "text": [
      "結構疲れた🐤🐤\n"
     ]
    }
   ],
   "source": [
    "text3 = \"結構疲れた死ね\"\n",
    "import re\n",
    "\n",
    "for tokens in t.tokenize(text3):\n",
    "    if \"命令\" in tokens.infl_form:\n",
    "        text3 = re.sub(tokens.surface, str(\"🐤\" * int(len(tokens.surface))), text3)\n",
    "print(text3)\n"
   ]
  },
  {
   "cell_type": "code",
   "execution_count": 45,
   "metadata": {},
   "outputs": [
    {
     "name": "stdout",
     "output_type": "stream",
     "text": [
      "産廃がさっさと🐤🐤🐤🐤\n"
     ]
    }
   ],
   "source": [
    "text4 = \"産廃がさっさとくたばれ\"\n",
    "import re\n",
    "\n",
    "for tokens in t.tokenize(text4):\n",
    "    if \"命令\" in tokens.infl_form:\n",
    "        text4 = re.sub(tokens.surface, str(\"🐤\" * int(len(tokens.surface))), text4)\n",
    "print(text4)\n"
   ]
  },
  {
   "cell_type": "markdown",
   "metadata": {},
   "source": [
    "## 関数用\n"
   ]
  },
  {
   "cell_type": "markdown",
   "metadata": {},
   "source": [
    "#### 道徳基盤辞書\n"
   ]
  },
  {
   "cell_type": "code",
   "execution_count": 46,
   "metadata": {},
   "outputs": [
    {
     "name": "stdout",
     "output_type": "stream",
     "text": [
      "(366, 4)\n",
      "<class 'pandas.core.frame.DataFrame'>\n",
      "RangeIndex: 366 entries, 0 to 365\n",
      "Data columns (total 4 columns):\n",
      " #   Column  Non-Null Count  Dtype \n",
      "---  ------  --------------  ----- \n",
      " 0   見出し     366 non-null    object\n",
      " 1   読み方     366 non-null    object\n",
      " 2   言い換え語   292 non-null    object\n",
      " 3   備考      172 non-null    object\n",
      "dtypes: object(4)\n",
      "memory usage: 11.6+ KB\n",
      "None\n"
     ]
    },
    {
     "data": {
      "text/html": [
       "<div>\n",
       "<style scoped>\n",
       "    .dataframe tbody tr th:only-of-type {\n",
       "        vertical-align: middle;\n",
       "    }\n",
       "\n",
       "    .dataframe tbody tr th {\n",
       "        vertical-align: top;\n",
       "    }\n",
       "\n",
       "    .dataframe thead th {\n",
       "        text-align: right;\n",
       "    }\n",
       "</style>\n",
       "<table border=\"1\" class=\"dataframe\">\n",
       "  <thead>\n",
       "    <tr style=\"text-align: right;\">\n",
       "      <th></th>\n",
       "      <th>見出し</th>\n",
       "      <th>読み方</th>\n",
       "      <th>言い換え語</th>\n",
       "      <th>備考</th>\n",
       "    </tr>\n",
       "  </thead>\n",
       "  <tbody>\n",
       "    <tr>\n",
       "      <th>0</th>\n",
       "      <td>殺す</td>\n",
       "      <td>良くない</td>\n",
       "      <td>NaN</td>\n",
       "      <td>浪川追加</td>\n",
       "    </tr>\n",
       "    <tr>\n",
       "      <th>1</th>\n",
       "      <td>ﾀﾋね</td>\n",
       "      <td>良くない</td>\n",
       "      <td>NaN</td>\n",
       "      <td>死ねと同義、浪川追加</td>\n",
       "    </tr>\n",
       "    <tr>\n",
       "      <th>2</th>\n",
       "      <td>混血人</td>\n",
       "      <td>慣用的に用いる場合は「足して2で割った」ほどの意か</td>\n",
       "      <td>NaN</td>\n",
       "      <td>NaN</td>\n",
       "    </tr>\n",
       "    <tr>\n",
       "      <th>3</th>\n",
       "      <td>青姦</td>\n",
       "      <td>あおかん</td>\n",
       "      <td>野合</td>\n",
       "      <td>屋外で性交すること。意外に知らない人が多い</td>\n",
       "    </tr>\n",
       "    <tr>\n",
       "      <th>4</th>\n",
       "      <td>足切り</td>\n",
       "      <td>あしきり</td>\n",
       "      <td>予備選抜\\r\\n二段階選抜</td>\n",
       "      <td>漫画「ラブひな」では、暗示として主人公の足が切れる</td>\n",
       "    </tr>\n",
       "  </tbody>\n",
       "</table>\n",
       "</div>"
      ],
      "text/plain": [
       "   見出し                        読み方          言い換え語                         備考\n",
       "0   殺す                       良くない            NaN                       浪川追加\n",
       "1  ﾀﾋね                       良くない            NaN                 死ねと同義、浪川追加\n",
       "2  混血人  慣用的に用いる場合は「足して2で割った」ほどの意か            NaN                        NaN\n",
       "3   青姦                       あおかん             野合      屋外で性交すること。意外に知らない人が多い\n",
       "4  足切り                       あしきり  予備選抜\\r\\n二段階選抜  漫画「ラブひな」では、暗示として主人公の足が切れる"
      ]
     },
     "metadata": {},
     "output_type": "display_data"
    }
   ],
   "source": [
    "csv_in = \"src/kinshi.csv\"\n",
    "df = pd.read_csv(csv_in, sep=\",\", skiprows=0, header=0)\n",
    "print(df.shape)\n",
    "print(df.info())\n",
    "display(df.head())\n"
   ]
  },
  {
   "cell_type": "markdown",
   "metadata": {},
   "source": [
    "#### 道徳基盤辞書からの検索と検出\n"
   ]
  },
  {
   "cell_type": "code",
   "execution_count": 51,
   "metadata": {},
   "outputs": [
    {
     "name": "stdout",
     "output_type": "stream",
     "text": [
      "殺す\n",
      "ﾀﾋね\n",
      "混血人\n",
      "表日本\n",
      "ロンパリ\n"
     ]
    }
   ],
   "source": [
    "n = -1\n",
    "text_kakite = open(\"tweet.txt\", encoding=\"utf8\").read()\n",
    "for item in df[\"見出し\"]:\n",
    "    n += 1\n",
    "    if re.search(df.iloc[n, 0], text_kakite):\n",
    "        print(str(df.iloc[n, 0]))\n"
   ]
  },
  {
   "cell_type": "markdown",
   "metadata": {},
   "source": [
    "#### 定義\n"
   ]
  },
  {
   "cell_type": "code",
   "execution_count": 52,
   "metadata": {
    "tags": []
   },
   "outputs": [],
   "source": [
    "def ketaiso(text_dir):\n",
    "    result = []\n",
    "    text_kakite = open(text_dir, encoding=\"utf8\").read()\n",
    "    n = -1\n",
    "    for tokens in t.tokenize(text_kakite):\n",
    "        if \"命令\" in tokens.infl_form:\n",
    "            result.append(tokens.surface)\n",
    "    for item in df[\"見出し\"]:\n",
    "        n += 1\n",
    "        if re.search(df.iloc[n, 0], text_kakite):\n",
    "            result.append(str(df.iloc[n, 0]))\n",
    "    return result\n"
   ]
  },
  {
   "cell_type": "code",
   "execution_count": 48,
   "metadata": {},
   "outputs": [
    {
     "data": {
      "text/plain": [
       "['くたばれ', '殺す', 'ﾀﾋね', '混血人', '表日本', 'ロンパリ']"
      ]
     },
     "execution_count": 48,
     "metadata": {},
     "output_type": "execute_result"
    }
   ],
   "source": [
    "ketaiso(\"tweet.txt\")\n"
   ]
  },
  {
   "cell_type": "code",
   "execution_count": 49,
   "metadata": {
    "tags": []
   },
   "outputs": [
    {
     "name": "stdout",
     "output_type": "stream",
     "text": [
      "殺す\n",
      "ﾀﾋね\n",
      "混血人\n",
      "表日本\n",
      "ロンパリ\n"
     ]
    }
   ],
   "source": [
    "n = -1\n",
    "text_kakite = open(\"tweet.txt\", encoding=\"utf8\").read()\n",
    "for item in df[\"見出し\"]:\n",
    "    n += 1\n",
    "    if re.search(df.iloc[n, 0], text_kakite):\n",
    "        print(str(df.iloc[n, 0]))\n"
   ]
  },
  {
   "cell_type": "code",
   "execution_count": null,
   "metadata": {},
   "outputs": [],
   "source": []
  }
 ],
 "metadata": {
  "colab": {
   "provenance": [],
   "toc_visible": true
  },
  "kernelspec": {
   "display_name": "Python 3 (ipykernel)",
   "language": "python",
   "name": "python3"
  },
  "language_info": {
   "codemirror_mode": {
    "name": "ipython",
    "version": 3
   },
   "file_extension": ".py",
   "mimetype": "text/x-python",
   "name": "python",
   "nbconvert_exporter": "python",
   "pygments_lexer": "ipython3",
   "version": "3.8.12"
  }
 },
 "nbformat": 4,
 "nbformat_minor": 4
}
