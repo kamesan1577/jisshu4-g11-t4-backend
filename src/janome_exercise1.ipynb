{
 "cells": [
  {
   "cell_type": "markdown",
   "metadata": {
    "id": "Gg2Pq2Xf3fhw"
   },
   "source": [
    "## janomeによる形態素解析"
   ]
  },
  {
   "cell_type": "markdown",
   "metadata": {},
   "source": [
    "https://note.nkmk.me/python-janome-tutorial/"
   ]
  },
  {
   "cell_type": "markdown",
   "metadata": {},
   "source": [
    "https://mocobeta.github.io/janome/"
   ]
  },
  {
   "cell_type": "raw",
   "metadata": {},
   "source": [
    "pip install janome"
   ]
  },
  {
   "cell_type": "markdown",
   "metadata": {},
   "source": [
    "#### import"
   ]
  },
  {
   "cell_type": "code",
   "execution_count": 2,
   "metadata": {},
   "outputs": [],
   "source": [
    "from janome.tokenizer import Tokenizer\n",
    "import re"
   ]
  },
  {
   "cell_type": "code",
   "execution_count": 2,
   "metadata": {
    "id": "jDOLqvBhO8-J",
    "tags": []
   },
   "outputs": [
    {
     "name": "stdout",
     "output_type": "stream",
     "text": [
      "結構\t副詞,一般,*,*,*,*,結構,ケッコウ,ケッコー\n",
      "疲れ\t動詞,自立,*,*,一段,連用形,疲れる,ツカレ,ツカレ\n",
      "た\t助動詞,*,*,*,特殊・タ,基本形,た,タ,タ\n",
      "し\t助詞,接続助詞,*,*,*,*,し,シ,シ\n",
      "ね\t助詞,終助詞,*,*,*,*,ね,ネ,ネ\n",
      "------------------------------------------------------------\n",
      "結構\t副詞,一般,*,*,*,*,結構,ケッコウ,ケッコー\n",
      "疲れ\t動詞,自立,*,*,一段,連用形,疲れる,ツカレ,ツカレ\n",
      "た\t助動詞,*,*,*,特殊・タ,基本形,た,タ,タ\n",
      "死ね\t動詞,自立,*,*,五段・ナ行,命令ｅ,死ぬ,シネ,シネ\n",
      "------------------------------------------------------------\n",
      "*\n",
      "連用形\n",
      "基本形\n",
      "命令ｅ\n"
     ]
    }
   ],
   "source": [
    "t = Tokenizer()\n",
    "\n",
    "text = '結構疲れたしね'\n",
    "text2 = '結構疲れた死ね'\n",
    "\n",
    "for tokens in t.tokenize(text):\n",
    "    print(tokens)\n",
    "print('---'*20)\n",
    "for tokens in t.tokenize(text2):\n",
    "    print(tokens)\n",
    "print('---'*20)\n",
    "for tokens in t.tokenize(text2):\n",
    "    print(tokens.infl_form)"
   ]
  },
  {
   "cell_type": "markdown",
   "metadata": {
    "tags": []
   },
   "source": [
    "### 死ね、くたばれ、等命令形はまず検出できる"
   ]
  },
  {
   "cell_type": "code",
   "execution_count": 3,
   "metadata": {},
   "outputs": [
    {
     "name": "stdout",
     "output_type": "stream",
     "text": [
      "結構疲れた🐤🐤\n"
     ]
    }
   ],
   "source": [
    "text3 = '結構疲れた死ね'\n",
    "import re\n",
    "for tokens in t.tokenize(text3):\n",
    "    if '命令' in tokens.infl_form:\n",
    "        text3 = re.sub(tokens.surface, str('🐤' * int(len(tokens.surface))), text3)\n",
    "print(text3)"
   ]
  },
  {
   "cell_type": "code",
   "execution_count": 4,
   "metadata": {},
   "outputs": [
    {
     "name": "stdout",
     "output_type": "stream",
     "text": [
      "産廃がさっさと🐤🐤🐤🐤\n"
     ]
    }
   ],
   "source": [
    "text4 = '産廃がさっさとくたばれ'\n",
    "import re\n",
    "for tokens in t.tokenize(text4):\n",
    "    if '命令' in tokens.infl_form:\n",
    "        text4 = re.sub(tokens.surface, str('🐤' * int(len(tokens.surface))), text4)\n",
    "print(text4)"
   ]
  },
  {
   "cell_type": "code",
   "execution_count": 5,
   "metadata": {},
   "outputs": [
    {
     "name": "stdout",
     "output_type": "stream",
     "text": [
      "来い\t動詞,自立,*,*,カ変・来ル,命令ｉ,来る,コイ,コイ\n",
      "よ\t助詞,終助詞,*,*,*,*,よ,ヨ,ヨ\n"
     ]
    }
   ],
   "source": [
    "text = '来いよ'\n",
    "for tokens in t.tokenize(text):\n",
    "    print(tokens)"
   ]
  },
  {
   "cell_type": "code",
   "execution_count": null,
   "metadata": {},
   "outputs": [],
   "source": []
  },
  {
   "cell_type": "markdown",
   "metadata": {
    "id": "_yYmqDwvPBeS",
    "tags": []
   },
   "source": [
    "## テキストを読み込む"
   ]
  },
  {
   "cell_type": "code",
   "execution_count": 6,
   "metadata": {
    "id": "I1ta-0hS6nez"
   },
   "outputs": [
    {
     "name": "stdout",
     "output_type": "stream",
     "text": [
      "東洋大\t名詞,固有名詞,組織,*,*,*,東洋大,トウヨウダイ,トーヨーダイ\n",
      "生\t名詞,接尾,一般,*,*,*,生,セイ,セイ\n",
      "の\t助詞,連体化,*,*,*,*,の,ノ,ノ\n",
      "みなさん\t名詞,代名詞,一般,*,*,*,みなさん,ミナサン,ミナサン\n",
      "\n",
      "\n",
      "\t記号,空白,*,*,*,*,\n",
      "\n",
      ",*,*\n",
      "明日\t名詞,副詞可能,*,*,*,*,明日,アシタ,アシタ\n",
      "は\t助詞,係助詞,*,*,*,*,は,ハ,ワ\n",
      "抽選\t名詞,サ変接続,*,*,*,*,抽選,チュウセン,チューセン\n",
      "実施\t名詞,サ変接続,*,*,*,*,実施,ジッシ,ジッシ\n",
      "科目\t名詞,一般,*,*,*,*,科目,カモク,カモク\n",
      "の\t助詞,連体化,*,*,*,*,の,ノ,ノ\n",
      "発表\t名詞,サ変接続,*,*,*,*,発表,ハッピョウ,ハッピョー\n",
      "日\t名詞,接尾,一般,*,*,*,日,ビ,ビ\n",
      "です\t助動詞,*,*,*,特殊・デス,基本形,です,デス,デス\n",
      "。\t記号,句点,*,*,*,*,。,。,。\n",
      "\n",
      "\t記号,空白,*,*,*,*,\n",
      ",*,*\n",
      "自分\t名詞,一般,*,*,*,*,自分,ジブン,ジブン\n",
      "の\t助詞,連体化,*,*,*,*,の,ノ,ノ\n",
      "履修\t名詞,サ変接続,*,*,*,*,履修,リシュウ,リシュー\n",
      "科目\t名詞,一般,*,*,*,*,科目,カモク,カモク\n",
      "が\t助詞,格助詞,一般,*,*,*,が,ガ,ガ\n",
      "該当\t名詞,サ変接続,*,*,*,*,該当,ガイトウ,ガイトー\n",
      "する\t動詞,自立,*,*,サ変・スル,基本形,する,スル,スル\n",
      "か\t助詞,副助詞／並立助詞／終助詞,*,*,*,*,か,カ,カ\n",
      "、\t記号,読点,*,*,*,*,、,、,、\n",
      "必ず\t副詞,助詞類接続,*,*,*,*,必ず,カナラズ,カナラズ\n",
      "確認\t名詞,サ変接続,*,*,*,*,確認,カクニン,カクニン\n",
      "する\t動詞,自立,*,*,サ変・スル,基本形,する,スル,スル\n",
      "よう\t名詞,非自立,助動詞語幹,*,*,*,よう,ヨウ,ヨー\n",
      "に\t助詞,格助詞,一般,*,*,*,に,ニ,ニ\n",
      "し\t動詞,自立,*,*,サ変・スル,連用形,する,シ,シ\n",
      "て\t助詞,接続助詞,*,*,*,*,て,テ,テ\n",
      "ください\t動詞,非自立,*,*,五段・ラ行特殊,命令ｉ,くださる,クダサイ,クダサイ\n",
      "‼\t名詞,サ変接続,*,*,*,*,‼,*,*\n",
      "️\t記号,一般,*,*,*,*,️,*,*\n",
      "\n",
      "\n",
      "\t記号,空白,*,*,*,*,\n",
      "\n",
      ",*,*\n",
      "昨年度\t名詞,副詞可能,*,*,*,*,昨年度,サクネンド,サクネンド\n",
      "と\t助詞,格助詞,一般,*,*,*,と,ト,ト\n",
      "同様\t名詞,形容動詞語幹,*,*,*,*,同様,ドウヨウ,ドーヨー\n",
      "で\t助動詞,*,*,*,特殊・ダ,連用形,だ,デ,デ\n",
      "あれ\t助動詞,*,*,*,五段・ラ行アル,仮定形,ある,アレ,アレ\n",
      "ば\t助詞,接続助詞,*,*,*,*,ば,バ,バ\n",
      "、\t記号,読点,*,*,*,*,、,、,、\n",
      "発表\t名詞,サ変接続,*,*,*,*,発表,ハッピョウ,ハッピョー\n",
      "時間\t名詞,副詞可能,*,*,*,*,時間,ジカン,ジカン\n",
      "は\t助詞,係助詞,*,*,*,*,は,ハ,ワ\n",
      "18\t名詞,数,*,*,*,*,18,*,*\n",
      "時\t名詞,接尾,助数詞,*,*,*,時,ジ,ジ\n",
      "頃\t名詞,接尾,副詞可能,*,*,*,頃,ゴロ,ゴロ\n",
      "です\t助動詞,*,*,*,特殊・デス,基本形,です,デス,デス\n",
      "。\t記号,句点,*,*,*,*,。,。,。\n",
      "\n",
      "\n",
      "\t記号,空白,*,*,*,*,\n",
      "\n",
      ",*,*\n",
      "ご\t接頭詞,名詞接続,*,*,*,*,ご,ゴ,ゴ\n",
      "参考\t名詞,サ変接続,*,*,*,*,参考,サンコウ,サンコー\n",
      "まで\t助詞,副助詞,*,*,*,*,まで,マデ,マデ\n",
      "に\t助詞,格助詞,一般,*,*,*,に,ニ,ニ\n",
      "昨年度\t名詞,副詞可能,*,*,*,*,昨年度,サクネンド,サクネンド\n",
      "の\t助詞,連体化,*,*,*,*,の,ノ,ノ\n",
      "抽選\t名詞,サ変接続,*,*,*,*,抽選,チュウセン,チューセン\n",
      "実施\t名詞,サ変接続,*,*,*,*,実施,ジッシ,ジッシ\n",
      "科目\t名詞,一般,*,*,*,*,科目,カモク,カモク\n"
     ]
    }
   ],
   "source": [
    "t = Tokenizer()\n",
    "fp = open(\"tweet.txt\", encoding='utf8')\n",
    "tweet = fp.read()\n",
    "for tokens in t.tokenize(tweet):\n",
    "    print(tokens)"
   ]
  },
  {
   "cell_type": "code",
   "execution_count": 7,
   "metadata": {},
   "outputs": [
    {
     "name": "stdout",
     "output_type": "stream",
     "text": [
      "🐤🐤🐤🐤の🐤🐤🐤🐤\n",
      "\n",
      "🐤🐤は🐤🐤🐤🐤🐤🐤の🐤🐤🐤です。\n",
      "🐤🐤の🐤🐤🐤🐤が🐤🐤するか、必ず🐤🐤する🐤🐤にしてください🐤️\n",
      "\n",
      "🐤🐤🐤と🐤🐤であれば、🐤🐤🐤🐤は🐤🐤🐤🐤です。\n",
      "\n",
      "ご🐤🐤までに🐤🐤🐤の🐤🐤🐤🐤🐤🐤\n"
     ]
    }
   ],
   "source": [
    "import re\n",
    "for tokens in t.tokenize(tweet):\n",
    "    if '名詞' in tokens.part_of_speech.split(',')[0]:\n",
    "        tweet = re.sub(tokens.surface, str('🐤' * int(len(tokens.surface))), tweet)\n",
    "print(tweet)"
   ]
  },
  {
   "cell_type": "markdown",
   "metadata": {
    "tags": []
   },
   "source": [
    "##### 名詞はやはり独自の辞書を用意する必要がある"
   ]
  },
  {
   "cell_type": "code",
   "execution_count": 8,
   "metadata": {},
   "outputs": [
    {
     "name": "stdout",
     "output_type": "stream",
     "text": [
      "145 ms ± 17.9 ms per loop (mean ± std. dev. of 7 runs, 10 loops each)\n"
     ]
    }
   ],
   "source": [
    "%%timeit\n",
    "import re\n",
    "t = Tokenizer()\n",
    "fp = open(\"tweet.txt\", encoding='utf8')\n",
    "tweet = fp.read()\n",
    "for tokens in t.tokenize(tweet):\n",
    "    if '名詞' in tokens.part_of_speech.split(',')[0]:\n",
    "        tweet = re.sub(tokens.surface, str('🐤' * int(len(tokens.surface))), tweet)\n",
    "#print(tweet)"
   ]
  },
  {
   "cell_type": "markdown",
   "metadata": {},
   "source": [
    "#### 時短？"
   ]
  },
  {
   "cell_type": "code",
   "execution_count": 9,
   "metadata": {},
   "outputs": [
    {
     "name": "stdout",
     "output_type": "stream",
     "text": [
      "141 ms ± 6.77 ms per loop (mean ± std. dev. of 7 runs, 10 loops each)\n"
     ]
    }
   ],
   "source": [
    "%%timeit\n",
    "import re\n",
    "tweet = open(\"tweet.txt\", encoding='utf8').read()\n",
    "for tokens in Tokenizer().tokenize(tweet):\n",
    "    if '名詞' in tokens.part_of_speech.split(',')[0]:\n",
    "        tweet = re.sub(tokens.surface, str('🐤' * int(len(tokens.surface))), tweet)\n",
    "#print(tweet)"
   ]
  },
  {
   "cell_type": "markdown",
   "metadata": {},
   "source": [
    "#### tweet2"
   ]
  },
  {
   "cell_type": "code",
   "execution_count": 5,
   "metadata": {},
   "outputs": [
    {
     "name": "stdout",
     "output_type": "stream",
     "text": [
      "話し長い🐤🐤が\n"
     ]
    }
   ],
   "source": [
    "import re\n",
    "tweet = open(\"tweet2.txt\", encoding='utf8').read()\n",
    "for tokens in Tokenizer().tokenize(tweet):\n",
    "    if '名詞' in tokens.part_of_speech.split(',')[0]:\n",
    "        tweet = re.sub(tokens.surface, str('🐤' * int(len(tokens.surface))), tweet)\n",
    "print(tweet)"
   ]
  },
  {
   "cell_type": "code",
   "execution_count": null,
   "metadata": {},
   "outputs": [],
   "source": []
  }
 ],
 "metadata": {
  "colab": {
   "provenance": [],
   "toc_visible": true
  },
  "kernelspec": {
   "display_name": "Python 3 (ipykernel)",
   "language": "python",
   "name": "python3"
  },
  "language_info": {
   "codemirror_mode": {
    "name": "ipython",
    "version": 3
   },
   "file_extension": ".py",
   "mimetype": "text/x-python",
   "name": "python",
   "nbconvert_exporter": "python",
   "pygments_lexer": "ipython3",
   "version": "3.8.12"
  }
 },
 "nbformat": 4,
 "nbformat_minor": 4
}
